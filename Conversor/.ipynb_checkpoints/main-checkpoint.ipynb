{
 "cells": [
  {
   "cell_type": "code",
   "execution_count": 5,
   "metadata": {},
   "outputs": [],
   "source": [
    "#from functions import create_dataframe, get_files, parse_df, save_db\n",
    "\n",
    "import sys,os\n",
    "\n",
    "sys.path.insert(0,os.path.abspath(os.curdir))\n",
    "\n",
    "def start():\n",
    "    files = get_files()\n",
    "    for file in files:\n",
    "        df = create_dataframe(file)\n",
    "        df_parsed = parse_df(df)\n",
    "        save_db(df_parsed, file)\n",
    "\n",
    "    return\n",
    "\n",
    "#start()"
   ]
  },
  {
   "cell_type": "code",
   "execution_count": null,
   "metadata": {},
   "outputs": [],
   "source": []
  }
 ],
 "metadata": {
  "kernelspec": {
   "display_name": "Python 3",
   "language": "python",
   "name": "python3"
  },
  "language_info": {
   "codemirror_mode": {
    "name": "ipython",
    "version": 3
   },
   "file_extension": ".py",
   "mimetype": "text/x-python",
   "name": "python",
   "nbconvert_exporter": "python",
   "pygments_lexer": "ipython3",
   "version": "3.8.5"
  }
 },
 "nbformat": 4,
 "nbformat_minor": 4
}
